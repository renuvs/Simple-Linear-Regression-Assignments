{
 "cells": [
  {
   "cell_type": "markdown",
   "id": "1f5f5aed",
   "metadata": {},
   "source": [
    "### Problem Statement: Predict delivery time using sorting time \n",
    "\n",
    "Build a simple linear regression model by performing EDA and \n",
    "do necessary transformations and select the best model using R or Python."
   ]
  },
  {
   "cell_type": "code",
   "execution_count": 79,
   "id": "c8940425",
   "metadata": {},
   "outputs": [],
   "source": [
    "import pandas as pd\n",
    "import matplotlib.pyplot as plt\n",
    "from sklearn.linear_model import LinearRegression\n",
    "import seaborn as sns\n",
    "from sklearn.metrics import mean_squared_error, r2_score, mean_absolute_error\n",
    "from sklearn.ensemble import RandomForestRegressor, AdaBoostRegressor, GradientBoostingRegressor\n",
    "from sklearn.tree import DecisionTreeRegressor \n",
    "from sklearn.model_selection import GridSearchCV, cross_val_score\n",
    "from IPython.display import display_html \n",
    "import warnings\n",
    "warnings.filterwarnings('ignore')"
   ]
  },
  {
   "cell_type": "code",
   "execution_count": 80,
   "id": "f59b5645",
   "metadata": {},
   "outputs": [
    {
     "data": {
      "text/plain": [
       "0     21.00\n",
       "1     13.50\n",
       "2     19.75\n",
       "3     24.00\n",
       "4     29.00\n",
       "5     15.35\n",
       "6     19.00\n",
       "7      9.50\n",
       "8     17.90\n",
       "9     18.75\n",
       "10    19.83\n",
       "11    10.75\n",
       "12    16.68\n",
       "13    11.50\n",
       "14    12.03\n",
       "15    14.88\n",
       "16    13.75\n",
       "17    18.11\n",
       "18     8.00\n",
       "19    17.83\n",
       "20    21.50\n",
       "Name: Delivery Time, dtype: float64"
      ]
     },
     "execution_count": 80,
     "metadata": {},
     "output_type": "execute_result"
    }
   ],
   "source": [
    "ds = pd.read_csv('delivery_time.csv')\n",
    "ds['Delivery Time']"
   ]
  },
  {
   "cell_type": "markdown",
   "id": "78fad7ab",
   "metadata": {},
   "source": [
    "## Exploratory Data Analysis"
   ]
  },
  {
   "cell_type": "code",
   "execution_count": 4,
   "id": "b9e033b7",
   "metadata": {},
   "outputs": [
    {
     "name": "stdout",
     "output_type": "stream",
     "text": [
      "(21, 2)\n",
      "Delivery Time    float64\n",
      "Sorting Time       int64\n",
      "dtype: object\n",
      "Delivery Time    0\n",
      "Sorting Time     0\n",
      "dtype: int64\n"
     ]
    },
    {
     "data": {
      "text/html": [
       "<div>\n",
       "<style scoped>\n",
       "    .dataframe tbody tr th:only-of-type {\n",
       "        vertical-align: middle;\n",
       "    }\n",
       "\n",
       "    .dataframe tbody tr th {\n",
       "        vertical-align: top;\n",
       "    }\n",
       "\n",
       "    .dataframe thead th {\n",
       "        text-align: right;\n",
       "    }\n",
       "</style>\n",
       "<table border=\"1\" class=\"dataframe\">\n",
       "  <thead>\n",
       "    <tr style=\"text-align: right;\">\n",
       "      <th></th>\n",
       "      <th>Delivery Time</th>\n",
       "      <th>Sorting Time</th>\n",
       "    </tr>\n",
       "  </thead>\n",
       "  <tbody>\n",
       "    <tr>\n",
       "      <th>count</th>\n",
       "      <td>21.000000</td>\n",
       "      <td>21.000000</td>\n",
       "    </tr>\n",
       "    <tr>\n",
       "      <th>mean</th>\n",
       "      <td>16.790952</td>\n",
       "      <td>6.190476</td>\n",
       "    </tr>\n",
       "    <tr>\n",
       "      <th>std</th>\n",
       "      <td>5.074901</td>\n",
       "      <td>2.542028</td>\n",
       "    </tr>\n",
       "    <tr>\n",
       "      <th>min</th>\n",
       "      <td>8.000000</td>\n",
       "      <td>2.000000</td>\n",
       "    </tr>\n",
       "    <tr>\n",
       "      <th>25%</th>\n",
       "      <td>13.500000</td>\n",
       "      <td>4.000000</td>\n",
       "    </tr>\n",
       "    <tr>\n",
       "      <th>50%</th>\n",
       "      <td>17.830000</td>\n",
       "      <td>6.000000</td>\n",
       "    </tr>\n",
       "    <tr>\n",
       "      <th>75%</th>\n",
       "      <td>19.750000</td>\n",
       "      <td>8.000000</td>\n",
       "    </tr>\n",
       "    <tr>\n",
       "      <th>max</th>\n",
       "      <td>29.000000</td>\n",
       "      <td>10.000000</td>\n",
       "    </tr>\n",
       "  </tbody>\n",
       "</table>\n",
       "</div>"
      ],
      "text/plain": [
       "       Delivery Time  Sorting Time\n",
       "count      21.000000     21.000000\n",
       "mean       16.790952      6.190476\n",
       "std         5.074901      2.542028\n",
       "min         8.000000      2.000000\n",
       "25%        13.500000      4.000000\n",
       "50%        17.830000      6.000000\n",
       "75%        19.750000      8.000000\n",
       "max        29.000000     10.000000"
      ]
     },
     "execution_count": 4,
     "metadata": {},
     "output_type": "execute_result"
    }
   ],
   "source": [
    "print(ds.shape)\n",
    "print(ds.dtypes)\n",
    "print(ds.isnull().sum())\n",
    "ds.describe(include='all')"
   ]
  },
  {
   "cell_type": "code",
   "execution_count": 5,
   "id": "75f4737b",
   "metadata": {},
   "outputs": [
    {
     "data": {
      "text/plain": [
       "(array([1., 3., 3., 1., 0., 3., 4., 1., 2., 3.]),\n",
       " array([ 2. ,  2.8,  3.6,  4.4,  5.2,  6. ,  6.8,  7.6,  8.4,  9.2, 10. ]),\n",
       " <BarContainer object of 10 artists>)"
      ]
     },
     "execution_count": 5,
     "metadata": {},
     "output_type": "execute_result"
    },
    {
     "data": {
      "image/png": "[encoded data removed]",
      "text/plain": [
       "<Figure size 432x288 with 1 Axes>"
      ]
     },
     "metadata": {
      "needs_background": "light"
     },
     "output_type": "display_data"
    }
   ],
   "source": [
    "#to check whether input is normally distributed or not\n",
    "import matplotlib.pyplot as plt\n",
    "plt.hist(ds['Sorting Time'])"
   ]
  },
  {
   "cell_type": "code",
   "execution_count": 6,
   "id": "d8e74a2b",
   "metadata": {},
   "outputs": [
    {
     "data": {
      "text/plain": [
       "{'whiskers': [<matplotlib.lines.Line2D at 0x173b6874eb0>,\n",
       "  <matplotlib.lines.Line2D at 0x173b68851f0>],\n",
       " 'caps': [<matplotlib.lines.Line2D at 0x173b6885550>,\n",
       "  <matplotlib.lines.Line2D at 0x173b68858b0>],\n",
       " 'boxes': [<matplotlib.lines.Line2D at 0x173b6874b50>],\n",
       " 'medians': [<matplotlib.lines.Line2D at 0x173b6885c10>],\n",
       " 'fliers': [<matplotlib.lines.Line2D at 0x173b6885f70>],\n",
       " 'means': []}"
      ]
     },
     "execution_count": 6,
     "metadata": {},
     "output_type": "execute_result"
    },
    {
     "data": {
      "image/png": "[encoded data removed]",
      "text/plain": [
       "<Figure size 432x288 with 1 Axes>"
      ]
     },
     "metadata": {
      "needs_background": "light"
     },
     "output_type": "display_data"
    }
   ],
   "source": [
    "# to check whehter input data is symmetric\n",
    "plt.boxplot(ds['Sorting Time'])"
   ]
  },
  {
   "cell_type": "code",
   "execution_count": 7,
   "id": "4b63558d",
   "metadata": {},
   "outputs": [
    {
     "data": {
      "text/plain": [
       "<matplotlib.collections.PathCollection at 0x173b68e73a0>"
      ]
     },
     "execution_count": 7,
     "metadata": {},
     "output_type": "execute_result"
    },
    {
     "data": {
      "image/png": "[encoded data removed]",
      "text/plain": [
       "<Figure size 432x288 with 1 Axes>"
      ]
     },
     "metadata": {
      "needs_background": "light"
     },
     "output_type": "display_data"
    }
   ],
   "source": [
    "# sorting time and Deliverty time have positive relation\n",
    "plt.scatter(ds['Sorting Time'],ds['Delivery Time'])"
   ]
  },
  {
   "cell_type": "code",
   "execution_count": 8,
   "id": "95dbe0b1",
   "metadata": {},
   "outputs": [
    {
     "data": {
      "text/html": [
       "<div>\n",
       "<style scoped>\n",
       "    .dataframe tbody tr th:only-of-type {\n",
       "        vertical-align: middle;\n",
       "    }\n",
       "\n",
       "    .dataframe tbody tr th {\n",
       "        vertical-align: top;\n",
       "    }\n",
       "\n",
       "    .dataframe thead th {\n",
       "        text-align: right;\n",
       "    }\n",
       "</style>\n",
       "<table border=\"1\" class=\"dataframe\">\n",
       "  <thead>\n",
       "    <tr style=\"text-align: right;\">\n",
       "      <th></th>\n",
       "      <th>Delivery Time</th>\n",
       "      <th>Sorting Time</th>\n",
       "    </tr>\n",
       "  </thead>\n",
       "  <tbody>\n",
       "    <tr>\n",
       "      <th>Delivery Time</th>\n",
       "      <td>1.000000</td>\n",
       "      <td>0.825997</td>\n",
       "    </tr>\n",
       "    <tr>\n",
       "      <th>Sorting Time</th>\n",
       "      <td>0.825997</td>\n",
       "      <td>1.000000</td>\n",
       "    </tr>\n",
       "  </tbody>\n",
       "</table>\n",
       "</div>"
      ],
      "text/plain": [
       "               Delivery Time  Sorting Time\n",
       "Delivery Time       1.000000      0.825997\n",
       "Sorting Time        0.825997      1.000000"
      ]
     },
     "execution_count": 8,
     "metadata": {},
     "output_type": "execute_result"
    }
   ],
   "source": [
    "ds.corr()\n",
    "# Theres is 82% correlation strength between input and output which is compartively less.\n",
    "# correlation streng"
   ]
  },
  {
   "cell_type": "code",
   "execution_count": 81,
   "id": "00627ff8",
   "metadata": {},
   "outputs": [],
   "source": [
    "x_input = ds[['Sorting Time']]\n",
    "y_output = ds[['Delivery Time']]"
   ]
  },
  {
   "cell_type": "markdown",
   "id": "75f8510f",
   "metadata": {},
   "source": [
    "## Model Building and Training"
   ]
  },
  {
   "cell_type": "markdown",
   "id": "1438bd18",
   "metadata": {},
   "source": [
    "### Without k-fold validation"
   ]
  },
  {
   "cell_type": "code",
   "execution_count": 82,
   "id": "83305864",
   "metadata": {
    "scrolled": true
   },
   "outputs": [
    {
     "data": {
      "text/plain": [
       "GradientBoostingRegressor(criterion='mae', loss='lad')"
      ]
     },
     "execution_count": 82,
     "metadata": {},
     "output_type": "execute_result"
    }
   ],
   "source": [
    "# Linear Regressor\n",
    "from sklearn.linear_model import LinearRegression\n",
    "le_model = LinearRegression()\n",
    "le_model.fit(x_input,y_output)\n",
    "\n",
    "# Decision Tree\n",
    "#dt_model = DecisionTreeRegressor()\n",
    "# Tweaking hyperparameters \n",
    "dt_model = DecisionTreeRegressor(criterion ='poisson', max_depth = 4, min_samples_split = 4)\n",
    "dt_model.fit(x_input,y_output)\n",
    "\n",
    "# Random Forest\n",
    "rf_model = RandomForestRegressor()\n",
    "rf_model.fit(x_input,y_output)\n",
    "\n",
    "# AdaBoost\n",
    "ab_model = AdaBoostRegressor()\n",
    "ab_model.fit(x_input,y_output)\n",
    "\n",
    "# GradientBoosting\n",
    "gb_model = GradientBoostingRegressor()\n",
    "gb_model_tweaked = GradientBoostingRegressor(criterion='mae',loss='lad')\n",
    "gb_model.fit(x_input,y_output)\n",
    "gb_model_tweaked.fit(x_input,y_output)"
   ]
  },
  {
   "cell_type": "markdown",
   "id": "ab339037",
   "metadata": {},
   "source": [
    "### With k-fold validation - does not work well with outliers"
   ]
  },
  {
   "cell_type": "code",
   "execution_count": 94,
   "id": "baa29e61",
   "metadata": {},
   "outputs": [
    {
     "name": "stdout",
     "output_type": "stream",
     "text": [
      "CV score is for LR model = [0.40800127 0.06478567 0.54132932 0.47630451]\n",
      " mean accuracy = 0.3726051900957024\n",
      " std dev  = 0.18386620322788624\n",
      "CV score is for DT model = [ 0.09741032 -0.25509156 -0.2544546   0.11275102]\n",
      " mean accuracy = -0.07484620566405414\n",
      " std dev  = 0.18000874711136436\n",
      "CV score is for RF model = [-0.00654749 -0.2824538   0.2863748   0.15208581]\n",
      " mean accuracy = 0.03736483089125178\n",
      " std dev  = 0.21176585774583065\n",
      "CV score is for AB Model = [-0.12996759 -0.39827228  0.13932879  0.0438214 ]\n",
      " mean accuracy = -0.08627242037194524\n",
      " std dev  = 0.20437311828408597\n",
      "CV score is for GB model = [-0.23932977 -0.25426927  0.10541843  0.11118375]\n",
      " mean accuracy = -0.0692492144249684\n",
      " std dev  = 0.17764054707113205\n"
     ]
    }
   ],
   "source": [
    "cv_score_le = cross_val_score(estimator=le_model, X=x_input, y=y_output, cv=4)\n",
    "print(\"CV score is for LR model = {}\\n mean accuracy = {}\\n std dev  = {}\".\n",
    "      format(cv_score_le,cv_score_le.mean(),cv_score_le.std()))\n",
    "\n",
    "cv_score_dt = cross_val_score(estimator=dt_model, X=x_input, y=y_output, cv=4)\n",
    "print(\"CV score is for DT model = {}\\n mean accuracy = {}\\n std dev  = {}\".\n",
    "      format(cv_score_dt,cv_score_dt.mean(),cv_score_dt.std()))\n",
    "\n",
    "cv_score_rf = cross_val_score(estimator=rf_model, X=x_input, y=y_output, cv=4)\n",
    "print(\"CV score is for RF model = {}\\n mean accuracy = {}\\n std dev  = {}\".\n",
    "      format(cv_score_rf,cv_score_rf.mean(),cv_score_rf.std()))\n",
    "\n",
    "cv_score_ab = cross_val_score(estimator=ab_model, X=x_input, y=y_output, cv=4)\n",
    "print(\"CV score is for AB Model = {}\\n mean accuracy = {}\\n std dev  = {}\".\n",
    "      format(cv_score_ab,cv_score_ab.mean(),cv_score_ab.std()))\n",
    "\n",
    "cv_score_gb = cross_val_score(estimator=gb_model, X=x_input, y=y_output, cv=4)\n",
    "print(\"CV score is for GB model = {}\\n mean accuracy = {}\\n std dev  = {}\".\n",
    "      format(cv_score_gb,cv_score_gb.mean(),cv_score_gb.std()))"
   ]
  },
  {
   "cell_type": "markdown",
   "id": "324faf91",
   "metadata": {},
   "source": [
    "### GridSearchCV for Decision Tree"
   ]
  },
  {
   "cell_type": "code",
   "execution_count": 11,
   "id": "61207cda",
   "metadata": {},
   "outputs": [
    {
     "name": "stdout",
     "output_type": "stream",
     "text": [
      "{'criterion': 'poisson', 'max_depth': 4, 'min_samples_split': 4}\n",
      "-0.13016842719175586\n"
     ]
    }
   ],
   "source": [
    "grid_model = GridSearchCV(estimator= dt_model, param_grid = { 'criterion' : ['friedman_mse', 'mse', 'mae'],\n",
    "                                                    'max_depth' : [1,2,3,4,5,6,7],\n",
    "                                                    'min_samples_split' : [2,3,4,5]\n",
    "                                               })\n",
    "grid_model.fit(x_input,y_output)\n",
    "print(grid_model.best_params_)\n",
    "print(grid_model.best_score_)"
   ]
  },
  {
   "cell_type": "markdown",
   "id": "73360c25",
   "metadata": {},
   "source": [
    "### GridSearchCV for Gradient Boosting"
   ]
  },
  {
   "cell_type": "code",
   "execution_count": 38,
   "id": "71c1fcb6",
   "metadata": {},
   "outputs": [
    {
     "name": "stdout",
     "output_type": "stream",
     "text": [
      "{'criterion': 'mae', 'loss': 'lad'}\n",
      "-0.146097937152259\n"
     ]
    }
   ],
   "source": [
    "grid_model_gb = GridSearchCV(estimator= gb_model, param_grid = { 'criterion' : [\"mse\", \"friedman_mse\", \"mae\", \"poisson\"],\n",
    "                                                    'loss' :['ls', 'lad', 'huber', 'quantile']\n",
    "                                               })\n",
    "grid_model_gb.fit(x_input,y_output)\n",
    "print(grid_model_gb.best_params_)\n",
    "print(grid_model_gb.best_score_)"
   ]
  },
  {
   "cell_type": "code",
   "execution_count": 41,
   "id": "52222f21",
   "metadata": {},
   "outputs": [
    {
     "data": {
      "text/plain": [
       "<AxesSubplot:xlabel='Sorting Time', ylabel='Delivery Time'>"
      ]
     },
     "execution_count": 41,
     "metadata": {},
     "output_type": "execute_result"
    },
    {
     "data": {
      "image/png": "[encoded data removed]",
      "text/plain": [
       "<Figure size 432x288 with 1 Axes>"
      ]
     },
     "metadata": {
      "needs_background": "light"
     },
     "output_type": "display_data"
    }
   ],
   "source": [
    "# displays the best fit regression line\n",
    "import seaborn as sns\n",
    "sns.regplot(x='Sorting Time',y='Delivery Time', data=ds)"
   ]
  },
  {
   "cell_type": "markdown",
   "id": "4ae69a52",
   "metadata": {},
   "source": [
    "### Model Prediction"
   ]
  },
  {
   "cell_type": "code",
   "execution_count": 96,
   "id": "b2a071f5",
   "metadata": {},
   "outputs": [
    {
     "name": "stdout",
     "output_type": "stream",
     "text": [
      "    Test Sorting Time  Pred DT LR  Pred DT GB  Pred DT RM  Pred DT DT\n",
      "0                   0    6.582734    8.000348    8.998227   13.682727\n",
      "1                   2    9.880774    8.000348    8.998227   13.682727\n",
      "2                   4   13.178814   13.043487   12.893646   13.682727\n",
      "3                   6   16.476853   16.283622   16.131409   13.682727\n",
      "4                   7   18.125873   17.904960   17.805392   17.905000\n",
      "5                   8   19.774893   19.829904   19.206435   19.830000\n",
      "6                   9   21.423913   21.374838   21.391058   21.375000\n",
      "7                  10   23.072933   22.632982   22.900179   22.633333\n",
      "8                  12   26.370973   22.632982   22.900179   22.633333\n",
      "9                  15   31.318032   22.632982   22.900179   22.633333\n",
      "10                 19   37.914112   22.632982   22.900179   22.633333\n"
     ]
    }
   ],
   "source": [
    "# using training data\n",
    "y_predict_train_le         = le_model.predict(x_input)\n",
    "y_predict_train_dt         = dt_model.predict(x_input)\n",
    "y_predict_train_rf         = rf_model.predict(x_input)\n",
    "y_predict_train_ab         = ab_model.predict(x_input)\n",
    "y_predict_train_gb         = gb_model.predict(x_input)\n",
    "y_predict_train_gb_tweaked = gb_model_tweaked.predict(x_input)#tweaked with gridseachCV\n",
    "\n",
    "# using test data\n",
    "# Linear Regressor\n",
    "test_data = pd.DataFrame({'Test Sorting Time': [0,2,4,6,7,8,9,10,12,15,19]})# passing test data\n",
    "y_predict_test_le = le_model.predict(test_data)\n",
    "test_data['Predicted Delivery Time']= y_predict_test_le\n",
    "\n",
    "# Decision Tree\n",
    "y_predict_test_dt = dt_model.predict(test_data)\n",
    "test_data['Predicted Delivery Time']= y_predict_test_dt\n",
    "\n",
    "# Gradient Boosting\n",
    "y_predict_test_gb = gb_model.predict(test_data_gb)\n",
    "test_data_gb['Predicted Delivery Time']= y_predict_test_gb\n",
    "\n",
    "# Random Boosting\n",
    "y_predict_test_rf = rf_model.predict(test_data_rf)\n",
    "test_data_rf['Predicted Delivery Time']= y_predict_test_rf\n",
    "\n",
    "\n",
    "predicted_ds =  pd.DataFrame({'Test Sorting Time': [0,2,4,6,7,8,9,10,12,15,19]})# passing test data\n",
    "predicted_ds['Pred DT LR'] = y_predict_test_le\n",
    "predicted_ds['Pred DT GB'] = y_predict_test_gb\n",
    "predicted_ds['Pred DT RM'] = y_predict_test_rf\n",
    "predicted_ds['Pred DT DT'] = y_predict_test_dt\n",
    "print(predicted_ds)\n",
    "\n",
    "#to display predicted values side by side for comparison\n",
    "#df1_styler = test_data.style.set_table_attributes(\"style='display:inline'\").set_caption('Linear Regressor')\n",
    "#df2_styler = test_data_gb['Predicted Delivery Time'].style.set_table_attributes(\"style='display:inline'\").set_caption('Gradient Boosting')\n",
    "#df3_styler = test_data_rf['Predicted Delivery Time'].style.set_table_attributes(\"style='display:inline'\").set_caption('Random Forest')\n",
    "#display_html(df1_styler._repr_html_()+df2_styler._repr_html_()+df3_styler._repr_html_(), raw=True)\n",
    "#display_html(df1_styler._repr_html_()+df2_styler._repr_html_(), raw=True)"
   ]
  },
  {
   "cell_type": "markdown",
   "id": "c1a674d4",
   "metadata": {},
   "source": [
    "### Evaluation Metrics for Training Data"
   ]
  },
  {
   "cell_type": "code",
   "execution_count": 59,
   "id": "2ffb4044",
   "metadata": {},
   "outputs": [
    {
     "name": "stdout",
     "output_type": "stream",
     "text": [
      "REGRESSOR MODEL\n",
      "MSE      =  7.79\n",
      "R2 score = 0.68\n",
      "MAE      = 2.09\n",
      "\n",
      "DECISION TREE MODEL\n",
      "MSE      =  11.91\n",
      "R2 score = 0.51\n",
      "MAE      = 2.58\n",
      "\n",
      "RANDOM FOREST\n",
      "MSE      =  6.02\n",
      "R2 score = 0.75\n",
      "MAE      = 1.93\n",
      "\n",
      "ADABOOST\n",
      "MSE      =  7.22\n",
      "R2 score = 0.71\n",
      "MAE      = 2.12\n",
      "\n",
      "GRADIENT BOOSTING\t GRADIENT BOOSTING TWEAKED WITH GRIDSEARCHCV\n",
      "MSE      =  5.42 \t MSE = 6.81\n",
      "R2 score = 0.78 \t MSE = 0.72\n",
      "MAE      = 1.67 \t MSE = 1.53\n"
     ]
    }
   ],
   "source": [
    "print(\"REGRESSOR MODEL\")\n",
    "print(\"MSE      = \",round(mean_squared_error(y_output,y_predict_train_le),2))\n",
    "print(\"R2 score =\",round(r2_score(y_output,y_predict_train_le),2))\n",
    "print(\"MAE      =\",round(mean_absolute_error(y_output,y_predict_train_le),2))\n",
    "\n",
    "print(\"\\nDECISION TREE MODEL\")\n",
    "print(\"MSE      = \",round(mean_squared_error(y_output,y_predict_train_dt),2))\n",
    "print(\"R2 score =\",round(r2_score(y_output,y_predict_train_dt),2))\n",
    "print(\"MAE      =\",round(mean_absolute_error(y_output,y_predict_train_dt),2))\n",
    "\n",
    "print(\"\\nRANDOM FOREST\")\n",
    "print(\"MSE      = \",round(mean_squared_error(y_output,y_predict_train_rf),2))\n",
    "print(\"R2 score =\",round(r2_score(y_output,y_predict_train_rf),2))\n",
    "print(\"MAE      =\",round(mean_absolute_error(y_output,y_predict_train_rf),2))\n",
    "\n",
    "print(\"\\nADABOOST\")\n",
    "print(\"MSE      = \",round(mean_squared_error(y_output,y_predict_train_ab),2))\n",
    "print(\"R2 score =\",round(r2_score(y_output,y_predict_train_ab),2))\n",
    "print(\"MAE      =\",round(mean_absolute_error(y_output,y_predict_train_ab),2))\n",
    "\n",
    "print(\"\\nGRADIENT BOOSTING\\t GRADIENT BOOSTING TWEAKED WITH GRIDSEARCHCV\")\n",
    "print(\"MSE      = \",round(mean_squared_error(y_output,y_predict_train_gb),2),\"\\t MSE =\",\n",
    "                   round(mean_squared_error(y_output,y_predict_train_gb_tweaked),2))\n",
    "print(\"R2 score =\",round(r2_score(y_output,y_predict_train_gb),2),\"\\t MSE =\",\n",
    "                   round(r2_score(y_output,y_predict_train_gb_tweaked),2))\n",
    "print(\"MAE      =\",round(mean_absolute_error(y_output,y_predict_train_gb),2),\"\\t MSE =\",\n",
    "                   round(mean_absolute_error(y_output,y_predict_train_gb_tweaked),2))\n",
    "\n",
    "#print(\"\\nGRADIENT BOOSTING TWEAKED WITH GRIDSEARCHCV\")\n",
    "#print(\"MSE      = \",round(mean_squared_error(y_output,y_predict_train_gb_tweaked),2))\n",
    "#print(\"R2 score =\",round(r2_score(y_output,y_predict_train_gb_tweaked),2))\n",
    "#print(\"MAE      =\",round(mean_absolute_error(y_output,y_predict_train_gb_tweaked),2))"
   ]
  },
  {
   "cell_type": "markdown",
   "id": "ca8855ff",
   "metadata": {},
   "source": [
    "Inferences: \n",
    "\n",
    "Not used Test-train split here as no. of records is very less (21 rows)\n",
    "So if we do test-train split then while training the data the model may miss out some pattern which may be present in the test split\n",
    "\n",
    "The overall accuracy for Gradient Boosting Model is highest (ie. 78% ) for training data\n",
    "Also the MSE & MAE is the least for the Gradient Boosting Model.\n",
    "\n",
    "The accuracy for linear regression is the least (ie. 68% ) for training data.\n",
    "\n",
    "Now, to decide which model will perform better with unseen data we will check with k-fold CV, we can't use train test split here for the above-mentioned reason.\n",
    "\n",
    "From k fold validation we observed that\n",
    "The mean accuracy was 37% for Linear Regression model\n",
    "Mean accuracy was 3% for Random Forest model\n",
    "Mean accuracy was in negatives for all other models\n",
    "\n",
    "Thus in production line Linear Regressor model will be best for prediction.\n",
    "\n",
    "So, Linear Regression is a better model for predicting delivery time based on the sorting time."
   ]
  }
 ],
 "metadata": {
  "kernelspec": {
   "display_name": "Python 3",
   "language": "python",
   "name": "python3"
  },
  "language_info": {
   "codemirror_mode": {
    "name": "ipython",
    "version": 3
   },
   "file_extension": ".py",
   "mimetype": "text/x-python",
   "name": "python",
   "nbconvert_exporter": "python",
   "pygments_lexer": "ipython3",
   "version": "3.8.8"
  }
 },
 "nbformat": 4,
 "nbformat_minor": 5
}
