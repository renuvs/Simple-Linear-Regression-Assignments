{
 "cells": [
  {
   "cell_type": "markdown",
   "id": "0d621e5c",
   "metadata": {},
   "source": [
    "Salary_hike -> Build a prediction model for Salary_hike\n",
    "\n",
    "Build a simple linear regression model by performing EDA and do necessary transformations and select the best model using R or Python."
   ]
  },
  {
   "cell_type": "code",
   "execution_count": 189,
   "id": "c9844783",
   "metadata": {},
   "outputs": [],
   "source": [
    "import warnings\n",
    "warnings.filterwarnings('ignore')\n",
    "\n",
    "import pandas as pd\n",
    "import matplotlib.pyplot as plt\n",
    "import warnings\n",
    "import seaborn as sns\n",
    "import numpy as np\n",
    "import statsmodels.formula.api as smf\n",
    "from sklearn.linear_model import LinearRegression\n",
    "from sklearn.tree import DecisionTreeRegressor\n",
    "from sklearn.model_selection import GridSearchCV, cross_val_score\n",
    "from sklearn.ensemble import AdaBoostRegressor, RandomForestRegressor, GradientBoostingRegressor\n",
    "from sklearn.metrics import mean_squared_error,r2_score,mean_absolute_error"
   ]
  },
  {
   "cell_type": "code",
   "execution_count": 190,
   "id": "b764172c",
   "metadata": {},
   "outputs": [
    {
     "data": {
      "text/html": [
       "<div>\n",
       "<style scoped>\n",
       "    .dataframe tbody tr th:only-of-type {\n",
       "        vertical-align: middle;\n",
       "    }\n",
       "\n",
       "    .dataframe tbody tr th {\n",
       "        vertical-align: top;\n",
       "    }\n",
       "\n",
       "    .dataframe thead th {\n",
       "        text-align: right;\n",
       "    }\n",
       "</style>\n",
       "<table border=\"1\" class=\"dataframe\">\n",
       "  <thead>\n",
       "    <tr style=\"text-align: right;\">\n",
       "      <th></th>\n",
       "      <th>YearsExperience</th>\n",
       "      <th>Salary</th>\n",
       "    </tr>\n",
       "  </thead>\n",
       "  <tbody>\n",
       "    <tr>\n",
       "      <th>0</th>\n",
       "      <td>1.1</td>\n",
       "      <td>39343.0</td>\n",
       "    </tr>\n",
       "    <tr>\n",
       "      <th>1</th>\n",
       "      <td>1.3</td>\n",
       "      <td>46205.0</td>\n",
       "    </tr>\n",
       "    <tr>\n",
       "      <th>2</th>\n",
       "      <td>1.5</td>\n",
       "      <td>37731.0</td>\n",
       "    </tr>\n",
       "    <tr>\n",
       "      <th>3</th>\n",
       "      <td>2.0</td>\n",
       "      <td>43525.0</td>\n",
       "    </tr>\n",
       "    <tr>\n",
       "      <th>4</th>\n",
       "      <td>2.2</td>\n",
       "      <td>39891.0</td>\n",
       "    </tr>\n",
       "    <tr>\n",
       "      <th>5</th>\n",
       "      <td>2.9</td>\n",
       "      <td>56642.0</td>\n",
       "    </tr>\n",
       "    <tr>\n",
       "      <th>6</th>\n",
       "      <td>3.0</td>\n",
       "      <td>60150.0</td>\n",
       "    </tr>\n",
       "    <tr>\n",
       "      <th>7</th>\n",
       "      <td>3.2</td>\n",
       "      <td>54445.0</td>\n",
       "    </tr>\n",
       "    <tr>\n",
       "      <th>8</th>\n",
       "      <td>3.2</td>\n",
       "      <td>64445.0</td>\n",
       "    </tr>\n",
       "    <tr>\n",
       "      <th>9</th>\n",
       "      <td>3.7</td>\n",
       "      <td>57189.0</td>\n",
       "    </tr>\n",
       "  </tbody>\n",
       "</table>\n",
       "</div>"
      ],
      "text/plain": [
       "   YearsExperience   Salary\n",
       "0              1.1  39343.0\n",
       "1              1.3  46205.0\n",
       "2              1.5  37731.0\n",
       "3              2.0  43525.0\n",
       "4              2.2  39891.0\n",
       "5              2.9  56642.0\n",
       "6              3.0  60150.0\n",
       "7              3.2  54445.0\n",
       "8              3.2  64445.0\n",
       "9              3.7  57189.0"
      ]
     },
     "execution_count": 190,
     "metadata": {},
     "output_type": "execute_result"
    }
   ],
   "source": [
    "sal_data = pd.read_csv('Salary_Data.csv')\n",
    "sal_data.head(10)"
   ]
  },
  {
   "cell_type": "markdown",
   "id": "1bf00abd",
   "metadata": {},
   "source": [
    "## Exploratory Data Analysis"
   ]
  },
  {
   "cell_type": "code",
   "execution_count": 191,
   "id": "0f017fc4",
   "metadata": {},
   "outputs": [
    {
     "name": "stdout",
     "output_type": "stream",
     "text": [
      "(30, 2)\n",
      "YearsExperience    0\n",
      "Salary             0\n",
      "dtype: int64\n",
      "YearsExperience    float64\n",
      "Salary             float64\n",
      "dtype: object\n"
     ]
    },
    {
     "data": {
      "text/html": [
       "<div>\n",
       "<style scoped>\n",
       "    .dataframe tbody tr th:only-of-type {\n",
       "        vertical-align: middle;\n",
       "    }\n",
       "\n",
       "    .dataframe tbody tr th {\n",
       "        vertical-align: top;\n",
       "    }\n",
       "\n",
       "    .dataframe thead th {\n",
       "        text-align: right;\n",
       "    }\n",
       "</style>\n",
       "<table border=\"1\" class=\"dataframe\">\n",
       "  <thead>\n",
       "    <tr style=\"text-align: right;\">\n",
       "      <th></th>\n",
       "      <th>YearsExperience</th>\n",
       "      <th>Salary</th>\n",
       "    </tr>\n",
       "  </thead>\n",
       "  <tbody>\n",
       "    <tr>\n",
       "      <th>count</th>\n",
       "      <td>30.000000</td>\n",
       "      <td>30.000000</td>\n",
       "    </tr>\n",
       "    <tr>\n",
       "      <th>mean</th>\n",
       "      <td>5.313333</td>\n",
       "      <td>76003.000000</td>\n",
       "    </tr>\n",
       "    <tr>\n",
       "      <th>std</th>\n",
       "      <td>2.837888</td>\n",
       "      <td>27414.429785</td>\n",
       "    </tr>\n",
       "    <tr>\n",
       "      <th>min</th>\n",
       "      <td>1.100000</td>\n",
       "      <td>37731.000000</td>\n",
       "    </tr>\n",
       "    <tr>\n",
       "      <th>25%</th>\n",
       "      <td>3.200000</td>\n",
       "      <td>56720.750000</td>\n",
       "    </tr>\n",
       "    <tr>\n",
       "      <th>50%</th>\n",
       "      <td>4.700000</td>\n",
       "      <td>65237.000000</td>\n",
       "    </tr>\n",
       "    <tr>\n",
       "      <th>75%</th>\n",
       "      <td>7.700000</td>\n",
       "      <td>100544.750000</td>\n",
       "    </tr>\n",
       "    <tr>\n",
       "      <th>max</th>\n",
       "      <td>10.500000</td>\n",
       "      <td>122391.000000</td>\n",
       "    </tr>\n",
       "  </tbody>\n",
       "</table>\n",
       "</div>"
      ],
      "text/plain": [
       "       YearsExperience         Salary\n",
       "count        30.000000      30.000000\n",
       "mean          5.313333   76003.000000\n",
       "std           2.837888   27414.429785\n",
       "min           1.100000   37731.000000\n",
       "25%           3.200000   56720.750000\n",
       "50%           4.700000   65237.000000\n",
       "75%           7.700000  100544.750000\n",
       "max          10.500000  122391.000000"
      ]
     },
     "execution_count": 191,
     "metadata": {},
     "output_type": "execute_result"
    }
   ],
   "source": [
    "print(sal_data.shape)\n",
    "print(sal_data.isnull().sum())\n",
    "print(sal_data.dtypes)\n",
    "sal_data.describe(include='all')"
   ]
  },
  {
   "cell_type": "code",
   "execution_count": 192,
   "id": "91193ca6",
   "metadata": {},
   "outputs": [
    {
     "data": {
      "text/plain": [
       "<AxesSubplot:xlabel='YearsExperience', ylabel='Density'>"
      ]
     },
     "execution_count": 192,
     "metadata": {},
     "output_type": "execute_result"
    },
    {
     "data": {
      "image/png": "[encoded data removed]",
      "text/plain": [
       "<Figure size 432x288 with 1 Axes>"
      ]
     },
     "metadata": {
      "needs_background": "light"
     },
     "output_type": "display_data"
    }
   ],
   "source": [
    "sns.distplot(sal_data.YearsExperience)"
   ]
  },
  {
   "cell_type": "code",
   "execution_count": 193,
   "id": "daa5b0e6",
   "metadata": {},
   "outputs": [
    {
     "data": {
      "text/plain": [
       "{'whiskers': [<matplotlib.lines.Line2D at 0x21a7c181a90>,\n",
       "  <matplotlib.lines.Line2D at 0x21a7ab0c490>],\n",
       " 'caps': [<matplotlib.lines.Line2D at 0x21a7ab0c1c0>,\n",
       "  <matplotlib.lines.Line2D at 0x21a7ac9ba90>],\n",
       " 'boxes': [<matplotlib.lines.Line2D at 0x21a7c1814f0>],\n",
       " 'medians': [<matplotlib.lines.Line2D at 0x21a7ac9b1f0>],\n",
       " 'fliers': [<matplotlib.lines.Line2D at 0x21a7ac9b5e0>],\n",
       " 'means': []}"
      ]
     },
     "execution_count": 193,
     "metadata": {},
     "output_type": "execute_result"
    },
    {
     "data": {
      "image/png": "[encoded data removed]",
      "text/plain": [
       "<Figure size 432x288 with 1 Axes>"
      ]
     },
     "metadata": {
      "needs_background": "light"
     },
     "output_type": "display_data"
    }
   ],
   "source": [
    "plt.boxplot(sal_data.YearsExperience, vert = False)"
   ]
  },
  {
   "cell_type": "code",
   "execution_count": 194,
   "id": "d6d17b33",
   "metadata": {},
   "outputs": [
    {
     "data": {
      "text/plain": [
       "<matplotlib.collections.PathCollection at 0x21a7c7b5f70>"
      ]
     },
     "execution_count": 194,
     "metadata": {},
     "output_type": "execute_result"
    },
    {
     "data": {
      "image/png": "[encoded data removed]",
      "text/plain": [
       "<Figure size 432x288 with 1 Axes>"
      ]
     },
     "metadata": {
      "needs_background": "light"
     },
     "output_type": "display_data"
    }
   ],
   "source": [
    "#shows positive correlation between salary and years of experience\n",
    "plt.scatter(sal_data.Salary,sal_data.YearsExperience)"
   ]
  },
  {
   "cell_type": "code",
   "execution_count": 195,
   "id": "dc8325ec",
   "metadata": {},
   "outputs": [
    {
     "data": {
      "text/html": [
       "<div>\n",
       "<style scoped>\n",
       "    .dataframe tbody tr th:only-of-type {\n",
       "        vertical-align: middle;\n",
       "    }\n",
       "\n",
       "    .dataframe tbody tr th {\n",
       "        vertical-align: top;\n",
       "    }\n",
       "\n",
       "    .dataframe thead th {\n",
       "        text-align: right;\n",
       "    }\n",
       "</style>\n",
       "<table border=\"1\" class=\"dataframe\">\n",
       "  <thead>\n",
       "    <tr style=\"text-align: right;\">\n",
       "      <th></th>\n",
       "      <th>YearsExperience</th>\n",
       "      <th>Salary</th>\n",
       "    </tr>\n",
       "  </thead>\n",
       "  <tbody>\n",
       "    <tr>\n",
       "      <th>YearsExperience</th>\n",
       "      <td>1.000000</td>\n",
       "      <td>0.978242</td>\n",
       "    </tr>\n",
       "    <tr>\n",
       "      <th>Salary</th>\n",
       "      <td>0.978242</td>\n",
       "      <td>1.000000</td>\n",
       "    </tr>\n",
       "  </tbody>\n",
       "</table>\n",
       "</div>"
      ],
      "text/plain": [
       "                 YearsExperience    Salary\n",
       "YearsExperience         1.000000  0.978242\n",
       "Salary                  0.978242  1.000000"
      ]
     },
     "execution_count": 195,
     "metadata": {},
     "output_type": "execute_result"
    }
   ],
   "source": [
    "# correlation strength is high 97% between salary and years of experience\n",
    "sal_data.corr()"
   ]
  },
  {
   "cell_type": "code",
   "execution_count": 202,
   "id": "90276f69",
   "metadata": {},
   "outputs": [],
   "source": [
    "x_input = sal_data[['YearsExperience']]\n",
    "y_output = sal_data[['Salary']]"
   ]
  },
  {
   "cell_type": "markdown",
   "id": "72df2a75",
   "metadata": {},
   "source": [
    "## Model Building and Training"
   ]
  },
  {
   "cell_type": "markdown",
   "id": "b1198461",
   "metadata": {},
   "source": [
    "### Without K-fold validation"
   ]
  },
  {
   "cell_type": "code",
   "execution_count": 203,
   "id": "b72029f5",
   "metadata": {},
   "outputs": [
    {
     "name": "stdout",
     "output_type": "stream",
     "text": [
      "Intercept          25792.200199\n",
      "YearsExperience     9449.962321\n",
      "dtype: float64\n"
     ]
    },
    {
     "data": {
      "text/plain": [
       "LinearRegression()"
      ]
     },
     "execution_count": 203,
     "metadata": {},
     "output_type": "execute_result"
    }
   ],
   "source": [
    "# linear regression using stats model\n",
    "import statsmodels.formula.api as smf\n",
    "model_stats = smf.ols('Salary ~ YearsExperience', data=sal_data ).fit()\n",
    "print(model_stats.params)\n",
    "#print(model_stats.summary())\n",
    "\n",
    "#Linear Regression from sklearn\n",
    "le_model = LinearRegression()\n",
    "le_model.fit(x_input,y_output)"
   ]
  },
  {
   "cell_type": "markdown",
   "id": "141faf9c",
   "metadata": {},
   "source": [
    "### With k-fold validation"
   ]
  },
  {
   "cell_type": "code",
   "execution_count": 204,
   "id": "309ec10f",
   "metadata": {},
   "outputs": [
    {
     "name": "stdout",
     "output_type": "stream",
     "text": [
      "CV score is for LR model = [0.42772573 0.63293326 0.71542639]\n",
      " mean accuracy = 0.5920284587713647\n",
      " std dev  = 0.12096230568610448\n",
      "CV score is for DT model = [-2.06939332  0.71755849 -2.57725106]\n",
      " mean accuracy = -1.3096952959812134\n",
      " std dev  = 1.4484010255931623\n",
      "CV score is for RF model = [-1.37342426  0.79535673 -3.63114278]\n",
      " mean accuracy = -1.4030701031901087\n",
      " std dev  = 1.8072324411244711\n",
      "CV score is for AB Model = [-1.46405274  0.77870182 -2.57725106]\n",
      " mean accuracy = -1.0875339917289824\n",
      " std dev  = 1.3956909176860555\n",
      "CV score is for GB model = [-2.05314214  0.72568828 -2.60075113]\n",
      " mean accuracy = -1.3094016626612859\n",
      " std dev  = 1.4562880229673791\n"
     ]
    }
   ],
   "source": [
    "cv_score_le = cross_val_score(estimator=le_model, X=x_input, y=y_output, cv=3)\n",
    "print(\"CV score is for LR model = {}\\n mean accuracy = {}\\n std dev  = {}\".\n",
    "      format(cv_score_le,cv_score_le.mean(),cv_score_le.std()))\n",
    "\n",
    "cv_score_dt = cross_val_score(estimator=dt_model, X=x_input, y=y_output, cv=3)\n",
    "print(\"CV score is for DT model = {}\\n mean accuracy = {}\\n std dev  = {}\".\n",
    "      format(cv_score_dt,cv_score_dt.mean(),cv_score_dt.std()))\n",
    "\n",
    "cv_score_rf = cross_val_score(estimator=rf_model, X=x_input, y=y_output, cv=3)\n",
    "print(\"CV score is for RF model = {}\\n mean accuracy = {}\\n std dev  = {}\".\n",
    "      format(cv_score_rf,cv_score_rf.mean(),cv_score_rf.std()))\n",
    "\n",
    "cv_score_ab = cross_val_score(estimator=ab_model, X=x_input, y=y_output, cv=3)\n",
    "print(\"CV score is for AB Model = {}\\n mean accuracy = {}\\n std dev  = {}\".\n",
    "      format(cv_score_ab,cv_score_ab.mean(),cv_score_ab.std()))\n",
    "\n",
    "cv_score_gb = cross_val_score(estimator=gb_model, X=x_input, y=y_output, cv=3)\n",
    "print(\"CV score is for GB model = {}\\n mean accuracy = {}\\n std dev  = {}\".\n",
    "      format(cv_score_gb,cv_score_gb.mean(),cv_score_gb.std()))"
   ]
  },
  {
   "cell_type": "code",
   "execution_count": 205,
   "id": "6e8e519b",
   "metadata": {},
   "outputs": [
    {
     "data": {
      "text/plain": [
       "<AxesSubplot:xlabel='YearsExperience', ylabel='Salary'>"
      ]
     },
     "execution_count": 205,
     "metadata": {},
     "output_type": "execute_result"
    },
    {
     "data": {
      "image/png": "[encoded data removed]",
      "text/plain": [
       "<Figure size 432x288 with 1 Axes>"
      ]
     },
     "metadata": {
      "needs_background": "light"
     },
     "output_type": "display_data"
    }
   ],
   "source": [
    "sns.regplot(x=sal_data.YearsExperience , y=sal_data.Salary)"
   ]
  },
  {
   "cell_type": "markdown",
   "id": "f4a60447",
   "metadata": {},
   "source": [
    "## Model Prediction - Linear Regression"
   ]
  },
  {
   "cell_type": "code",
   "execution_count": 206,
   "id": "2681fb40",
   "metadata": {},
   "outputs": [
    {
     "name": "stdout",
     "output_type": "stream",
     "text": [
      "    YearsExperience  Actual_salary  Predicted_salary\n",
      "0               1.1        39343.0      36187.158752\n",
      "1               1.3        46205.0      38077.151217\n",
      "2               1.5        37731.0      39967.143681\n",
      "3               2.0        43525.0      44692.124842\n",
      "4               2.2        39891.0      46582.117306\n",
      "5               2.9        56642.0      53197.090931\n",
      "6               3.0        60150.0      54142.087163\n",
      "7               3.2        54445.0      56032.079627\n",
      "8               3.2        64445.0      56032.079627\n",
      "9               3.7        57189.0      60757.060788\n",
      "10              3.9        63218.0      62647.053252\n",
      "11              4.0        55794.0      63592.049484\n",
      "12              4.0        56957.0      63592.049484\n",
      "13              4.1        57081.0      64537.045717\n",
      "14              4.5        61111.0      68317.030645\n",
      "15              4.9        67938.0      72097.015574\n",
      "16              5.1        66029.0      73987.008038\n",
      "17              5.3        83088.0      75877.000502\n",
      "18              5.9        81363.0      81546.977895\n",
      "19              6.0        93940.0      82491.974127\n",
      "20              6.8        91738.0      90051.943985\n",
      "21              7.1        98273.0      92886.932681\n",
      "22              7.9       101302.0     100446.902538\n",
      "23              8.2       113812.0     103281.891235\n",
      "24              8.7       109431.0     108006.872395\n",
      "25              9.0       105582.0     110841.861092\n",
      "26              9.5       116969.0     115566.842252\n",
      "27              9.6       112635.0     116511.838485\n",
      "28             10.3       122391.0     123126.812110\n",
      "29             10.5       121872.0     125016.804574\n"
     ]
    }
   ],
   "source": [
    "#for training data\n",
    "predicted_sal_train      = le_model.predict(x_input)\n",
    "#predicted_sal_train\n",
    "\n",
    "final_data                     = pd.DataFrame()\n",
    "final_data                     = x_input\n",
    "final_data['Actual_salary']    = y_output\n",
    "final_data['Predicted_salary'] = predicted_sal_train\n",
    "print(final_data)"
   ]
  },
  {
   "cell_type": "code",
   "execution_count": 207,
   "id": "c65d4138",
   "metadata": {},
   "outputs": [
    {
     "name": "stdout",
     "output_type": "stream",
     "text": [
      "    YearsExperience  Predict_sal_test\n",
      "0               0.0      25792.200199\n",
      "1               0.5      30517.181359\n",
      "2               1.1      36187.158752\n",
      "3               2.5      49417.106002\n",
      "4               3.2      56032.079627\n",
      "5               4.0      63592.049484\n",
      "6               4.7      70207.023110\n",
      "7               6.0      82491.974127\n",
      "8               7.0      91941.936449\n",
      "9               7.7      98556.910074\n",
      "10              8.9     109896.864860\n",
      "11              9.0     110841.861092\n",
      "12             10.5     125016.804574\n",
      "13             11.0     129741.785735\n",
      "14             12.0     139191.748056\n"
     ]
    }
   ],
   "source": [
    "# for test data\n",
    "test_ds = pd.DataFrame({'YearsExperience': [0, 0.5, 1.1, 2.50, 3.2, 4.0, 4.7, 6, 7.0, 7.7, 8.9, 9, 10.5, 11, 12]})\n",
    "predicted_sal_test = le_model.predict(test_ds)\n",
    "predicted_sal_test_norm = le_model_norm.predict(test_ds)\n",
    "\n",
    "predict_test_ds = pd.DataFrame({'YearsExperience': [0, 0.5, 1.1, 2.50, 3.2, 4.0, 4.7, 6, 7.0, 7.7, 8.9, 9, 10.5, 11, 12]})\n",
    "predict_test_ds['Predict_sal_test'] = predicted_sal_test\n",
    "print(predict_test_ds)"
   ]
  },
  {
   "cell_type": "markdown",
   "id": "48e8ca60",
   "metadata": {},
   "source": [
    "### Evaluation Metrics - Linear Regression"
   ]
  },
  {
   "cell_type": "code",
   "execution_count": 208,
   "id": "9bb2bdae",
   "metadata": {},
   "outputs": [
    {
     "name": "stdout",
     "output_type": "stream",
     "text": [
      "REGRESSOR MODEL\n",
      "MSE      =  31270951.72\n",
      "R2 score = 0.96\n",
      "MAE      = 4644.2\n"
     ]
    }
   ],
   "source": [
    "# for training data\n",
    "print(\"REGRESSOR MODEL\")\n",
    "print(\"MSE      = \",round(mean_squared_error(y_output,predicted_sal_train),2))\n",
    "print(\"R2 score =\",round(r2_score(y_output,predicted_sal_train),2))\n",
    "print(\"MAE      =\",round(mean_absolute_error(y_output,predicted_sal_train),2))"
   ]
  },
  {
   "cell_type": "markdown",
   "id": "4bdeaca7",
   "metadata": {},
   "source": [
    "Inferences\n",
    "\n",
    "Not used Test-train split here as no. of records is very less (21 rows) So if we do test-train split then while training the data the model may miss out some pattern which may be present in the test split\n",
    "\n",
    "k-fold cross validation for test environment with differnt machine learning algorithm was done\n",
    "The means accuracy was 59% for LR model and for rest of the models it was in negatives\n",
    "Therefore, we will use only LR model coz it is giving better accuracy for test environment.\n",
    "\n",
    "For training data\n",
    "Linear regression model is giving 96% accuracy"
   ]
  }
 ],
 "metadata": {
  "kernelspec": {
   "display_name": "Python 3",
   "language": "python",
   "name": "python3"
  },
  "language_info": {
   "codemirror_mode": {
    "name": "ipython",
    "version": 3
   },
   "file_extension": ".py",
   "mimetype": "text/x-python",
   "name": "python",
   "nbconvert_exporter": "python",
   "pygments_lexer": "ipython3",
   "version": "3.8.8"
  }
 },
 "nbformat": 4,
 "nbformat_minor": 5
}
